{
 "cells": [
  {
   "cell_type": "code",
   "execution_count": 7,
   "id": "e565b0a6",
   "metadata": {},
   "outputs": [],
   "source": [
    "# Quetion 1"
   ]
  },
  {
   "cell_type": "code",
   "execution_count": 8,
   "id": "a5bfab7a",
   "metadata": {},
   "outputs": [],
   "source": [
    "import re"
   ]
  },
  {
   "cell_type": "code",
   "execution_count": 9,
   "id": "0617312d",
   "metadata": {},
   "outputs": [],
   "source": [
    "String = \"Hey, this is the first question. Numbers are 05102003 and symbols are !@#$%^&*\""
   ]
  },
  {
   "cell_type": "code",
   "execution_count": 10,
   "id": "2b75db4f",
   "metadata": {},
   "outputs": [],
   "source": [
    "Pattern = re.compile(r'\\d+')"
   ]
  },
  {
   "cell_type": "code",
   "execution_count": 11,
   "id": "3c6a26d3",
   "metadata": {},
   "outputs": [
    {
     "name": "stdout",
     "output_type": "stream",
     "text": [
      "Numbers found:\n",
      "05102003\n"
     ]
    }
   ],
   "source": [
    "print(\"Numbers found:\")\n",
    "for match in Pattern.finditer(String):\n",
    "    print(match.group())"
   ]
  },
  {
   "cell_type": "code",
   "execution_count": 12,
   "id": "68b31d6f",
   "metadata": {},
   "outputs": [
    {
     "name": "stdout",
     "output_type": "stream",
     "text": [
      "The text starts with 'Hey'\n"
     ]
    }
   ],
   "source": [
    "if re.match(r'Hey', String):\n",
    "    print(\"The text starts with 'Hey'\")\n",
    "else:\n",
    "    print(\"The text does not start with 'Hey'\")"
   ]
  },
  {
   "cell_type": "code",
   "execution_count": 13,
   "id": "5275f333",
   "metadata": {},
   "outputs": [
    {
     "name": "stdout",
     "output_type": "stream",
     "text": [
      "The entire text does not match the pattern\n"
     ]
    }
   ],
   "source": [
    "if re.fullmatch(r'Hey, this is the first question. Numbers are 05102003 and symbols are @#$%^&*', String):\n",
    "    print(\"The entire text matches the pattern\")\n",
    "else:\n",
    "    print(\"The entire text does not match the pattern\")"
   ]
  },
  {
   "cell_type": "code",
   "execution_count": 14,
   "id": "a22a65df",
   "metadata": {},
   "outputs": [
    {
     "name": "stdout",
     "output_type": "stream",
     "text": [
      "The word 'question' is found\n"
     ]
    }
   ],
   "source": [
    "match = re.search(r'question', String)\n",
    "if match:\n",
    "    print(\"The word 'question' is found\")\n",
    "else:\n",
    "    print(\"The word 'question' is not found\")"
   ]
  },
  {
   "cell_type": "code",
   "execution_count": 15,
   "id": "1a7cf5c4",
   "metadata": {},
   "outputs": [
    {
     "name": "stdout",
     "output_type": "stream",
     "text": [
      "All words in the String are as follows:\n",
      "['Hey', 'this', 'is', 'the', 'first', 'question', 'Numbers', 'are', '05102003', 'and', 'symbols', 'are']\n"
     ]
    }
   ],
   "source": [
    "print(\"All words in the String are as follows:\")\n",
    "Words = re.findall(r'\\w+', String)\n",
    "print(Words)"
   ]
  },
  {
   "cell_type": "code",
   "execution_count": 16,
   "id": "05247ee5",
   "metadata": {},
   "outputs": [
    {
     "name": "stdout",
     "output_type": "stream",
     "text": [
      "After replacing non-word characters are as follows:\n",
      "Hey-this-is-the-first-question-Numbers-are-05102003-and-symbols-are-\n"
     ]
    }
   ],
   "source": [
    "new_String = re.sub(r'\\W+', '-', String)\n",
    "print(\"After replacing non-word characters are as follows:\")\n",
    "print(new_String)"
   ]
  },
  {
   "cell_type": "code",
   "execution_count": 17,
   "id": "9b1c7880",
   "metadata": {},
   "outputs": [
    {
     "name": "stdout",
     "output_type": "stream",
     "text": [
      "After replacing numbers with 'X':\n",
      "Hey, this is the first question. Numbers are X and symbols are !@#$%^&*\n",
      "Number of substitutions: 1\n"
     ]
    }
   ],
   "source": [
    "new_String, Count = re.subn(r'\\d+', 'X', String)\n",
    "print(\"After replacing numbers with 'X':\")\n",
    "print(new_String)\n",
    "print(\"Number of substitutions:\", Count)"
   ]
  },
  {
   "cell_type": "code",
   "execution_count": 18,
   "id": "038f7579",
   "metadata": {},
   "outputs": [
    {
     "name": "stdout",
     "output_type": "stream",
     "text": [
      "Splitting the String:\n",
      "['Hey', 'this', 'is', 'the', 'first', 'question', 'Numbers', 'are', '05102003', 'and', 'symbols', 'are', '']\n"
     ]
    }
   ],
   "source": [
    "print(\"Splitting the String:\")\n",
    "Parts = re.split(r'\\W+', String)\n",
    "print(Parts)"
   ]
  },
  {
   "cell_type": "code",
   "execution_count": 19,
   "id": "247f1676",
   "metadata": {},
   "outputs": [
    {
     "name": "stdout",
     "output_type": "stream",
     "text": [
      "Hi\n"
     ]
    }
   ],
   "source": [
    "print(\"Hi\")"
   ]
  }
 ],
 "metadata": {
  "kernelspec": {
   "display_name": "Python 3 (ipykernel)",
   "language": "python",
   "name": "python3"
  },
  "language_info": {
   "codemirror_mode": {
    "name": "ipython",
    "version": 3
   },
   "file_extension": ".py",
   "mimetype": "text/x-python",
   "name": "python",
   "nbconvert_exporter": "python",
   "pygments_lexer": "ipython3",
   "version": "3.11.9"
  }
 },
 "nbformat": 4,
 "nbformat_minor": 5
}
