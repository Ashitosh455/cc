{
 "cells": [
  {
   "cell_type": "code",
   "execution_count": 1,
   "id": "312742fd",
   "metadata": {},
   "outputs": [],
   "source": [
    "#Question number 2"
   ]
  },
  {
   "cell_type": "code",
   "execution_count": 3,
   "id": "35fab6de",
   "metadata": {},
   "outputs": [],
   "source": [
    "import re"
   ]
  },
  {
   "cell_type": "code",
   "execution_count": 5,
   "id": "cdc4ae08",
   "metadata": {},
   "outputs": [],
   "source": [
    "String = \"Hey, this is the second question. Numbers are 05102003 and symbols are !@#$%^&*\"\n"
   ]
  },
  {
   "cell_type": "code",
   "execution_count": 8,
   "id": "dba9051c",
   "metadata": {},
   "outputs": [
    {
     "name": "stdout",
     "output_type": "stream",
     "text": [
      "The text starts with 'Hey'\n"
     ]
    }
   ],
   "source": [
    "if re.match(r'Hey', String):\n",
    "    print(\"The text starts with 'Hey'\")\n",
    "else:\n",
    "    print(\"The text does not start with 'Hey'\")"
   ]
  },
  {
   "cell_type": "code",
   "execution_count": 10,
   "id": "35ab5271",
   "metadata": {},
   "outputs": [
    {
     "name": "stdout",
     "output_type": "stream",
     "text": [
      "The word 'second' is found\n"
     ]
    }
   ],
   "source": [
    "if re.search(r'second', String):\n",
    "    print(\"The word 'second' is found\")\n",
    "else:\n",
    "    print(\"The word 'second' is not found\")\n"
   ]
  },
  {
   "cell_type": "code",
   "execution_count": 11,
   "id": "a59e5bd3",
   "metadata": {},
   "outputs": [
    {
     "name": "stdout",
     "output_type": "stream",
     "text": [
      "Numbers found: ['05102003']\n"
     ]
    }
   ],
   "source": [
    "Numbers = re.findall(r'\\d+', String)\n",
    "print(\"Numbers found:\", Numbers)"
   ]
  }
 ],
 "metadata": {
  "kernelspec": {
   "display_name": "Python 3 (ipykernel)",
   "language": "python",
   "name": "python3"
  },
  "language_info": {
   "codemirror_mode": {
    "name": "ipython",
    "version": 3
   },
   "file_extension": ".py",
   "mimetype": "text/x-python",
   "name": "python",
   "nbconvert_exporter": "python",
   "pygments_lexer": "ipython3",
   "version": "3.11.4"
  }
 },
 "nbformat": 4,
 "nbformat_minor": 5
}
