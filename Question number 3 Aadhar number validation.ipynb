{
 "cells": [
  {
   "cell_type": "code",
   "execution_count": 1,
   "id": "da98c454",
   "metadata": {},
   "outputs": [],
   "source": [
    "import re"
   ]
  },
  {
   "cell_type": "code",
   "execution_count": 2,
   "id": "788477d4",
   "metadata": {},
   "outputs": [],
   "source": [
    "Pattern = re.compile(r'^[2-9]\\d{3}\\s\\d{4}\\s\\d{4}$')"
   ]
  },
  {
   "cell_type": "code",
   "execution_count": 6,
   "id": "b0081815",
   "metadata": {},
   "outputs": [
    {
     "name": "stdout",
     "output_type": "stream",
     "text": [
      "Enter an Aadhar number: 2431 1234 1234\n"
     ]
    }
   ],
   "source": [
    "Aadhar_number = input(\"Enter an Aadhar number: \")"
   ]
  },
  {
   "cell_type": "code",
   "execution_count": 7,
   "id": "25bf7c10",
   "metadata": {},
   "outputs": [
    {
     "name": "stdout",
     "output_type": "stream",
     "text": [
      "Valid Aadhar number\n"
     ]
    }
   ],
   "source": [
    "if Pattern.match(Aadhar_number):\n",
    "    print(\"Valid Aadhar number\")\n",
    "else:\n",
    "    print(\"Invalid Aadhar number\")"
   ]
  },
  {
   "cell_type": "code",
   "execution_count": null,
   "id": "0602b7d8",
   "metadata": {},
   "outputs": [],
   "source": []
  }
 ],
 "metadata": {
  "kernelspec": {
   "display_name": "Python 3 (ipykernel)",
   "language": "python",
   "name": "python3"
  },
  "language_info": {
   "codemirror_mode": {
    "name": "ipython",
    "version": 3
   },
   "file_extension": ".py",
   "mimetype": "text/x-python",
   "name": "python",
   "nbconvert_exporter": "python",
   "pygments_lexer": "ipython3",
   "version": "3.11.4"
  }
 },
 "nbformat": 4,
 "nbformat_minor": 5
}
