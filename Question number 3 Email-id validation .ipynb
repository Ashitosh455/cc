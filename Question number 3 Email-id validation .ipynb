{
 "cells": [
  {
   "cell_type": "code",
   "execution_count": 1,
   "id": "66c46479",
   "metadata": {},
   "outputs": [],
   "source": [
    "# Email-id"
   ]
  },
  {
   "cell_type": "code",
   "execution_count": 2,
   "id": "2957fc16",
   "metadata": {},
   "outputs": [],
   "source": [
    "#sutar.rrs05@gmail.com"
   ]
  },
  {
   "cell_type": "code",
   "execution_count": 3,
   "id": "7d103b36",
   "metadata": {},
   "outputs": [],
   "source": [
    "import re"
   ]
  },
  {
   "cell_type": "code",
   "execution_count": 5,
   "id": "6113fb59",
   "metadata": {},
   "outputs": [],
   "source": [
    "Pattern = \"^[a-z 0-9]+[\\._]?[a-z 0-9]+[@]\\w+[.]\\w{2,3}$\""
   ]
  },
  {
   "cell_type": "code",
   "execution_count": 8,
   "id": "37debe2a",
   "metadata": {},
   "outputs": [
    {
     "name": "stdout",
     "output_type": "stream",
     "text": [
      "Enter your Email-id: sutar.rrs05@gmail.com\n",
      "sutar.rrs05@gmail.com is valid.\n"
     ]
    }
   ],
   "source": [
    "Email_id=input(\"Enter your Email-id: \")\n",
    "if re.search(Pattern,Email_id):\n",
    "    print(f\"{Email_id} is valid.\")\n",
    "else:\n",
    "    print(f\"{Email_id} is Invalid.\")"
   ]
  },
  {
   "cell_type": "code",
   "execution_count": null,
   "id": "f301c9fa",
   "metadata": {},
   "outputs": [],
   "source": []
  }
 ],
 "metadata": {
  "kernelspec": {
   "display_name": "Python 3 (ipykernel)",
   "language": "python",
   "name": "python3"
  },
  "language_info": {
   "codemirror_mode": {
    "name": "ipython",
    "version": 3
   },
   "file_extension": ".py",
   "mimetype": "text/x-python",
   "name": "python",
   "nbconvert_exporter": "python",
   "pygments_lexer": "ipython3",
   "version": "3.11.4"
  }
 },
 "nbformat": 4,
 "nbformat_minor": 5
}
