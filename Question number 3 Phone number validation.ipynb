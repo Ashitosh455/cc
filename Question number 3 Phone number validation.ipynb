{
 "cells": [
  {
   "cell_type": "code",
   "execution_count": 1,
   "id": "1f611632",
   "metadata": {},
   "outputs": [
    {
     "name": "stdout",
     "output_type": "stream",
     "text": [
      "Enter a Phone number: 9503486067\n",
      "Valid Phone number\n"
     ]
    }
   ],
   "source": [
    "import re"
   ]
  },
  {
   "cell_type": "code",
   "execution_count": 4,
   "id": "d7ed0c2e",
   "metadata": {},
   "outputs": [],
   "source": [
    "Pattern = re.compile(r'^[789]\\d{9}$')"
   ]
  },
  {
   "cell_type": "code",
   "execution_count": 6,
   "id": "71d7e767",
   "metadata": {},
   "outputs": [
    {
     "name": "stdout",
     "output_type": "stream",
     "text": [
      "Enter a Phone number: 9503486067\n"
     ]
    }
   ],
   "source": [
    "Phone_number = input(\"Enter a Phone number: \")"
   ]
  },
  {
   "cell_type": "code",
   "execution_count": 7,
   "id": "aac382fd",
   "metadata": {},
   "outputs": [
    {
     "name": "stdout",
     "output_type": "stream",
     "text": [
      "Valid Phone number\n"
     ]
    }
   ],
   "source": [
    "if Pattern.match(Phone_number):\n",
    "    print(\"Valid Phone number\")\n",
    "else:\n",
    "    print(\"Invalid Phone number\")"
   ]
  }
 ],
 "metadata": {
  "kernelspec": {
   "display_name": "Python 3 (ipykernel)",
   "language": "python",
   "name": "python3"
  },
  "language_info": {
   "codemirror_mode": {
    "name": "ipython",
    "version": 3
   },
   "file_extension": ".py",
   "mimetype": "text/x-python",
   "name": "python",
   "nbconvert_exporter": "python",
   "pygments_lexer": "ipython3",
   "version": "3.11.4"
  }
 },
 "nbformat": 4,
 "nbformat_minor": 5
}
