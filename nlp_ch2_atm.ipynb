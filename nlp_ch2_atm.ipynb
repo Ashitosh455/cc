{
 "cells": [
  {
   "cell_type": "code",
   "execution_count": 3,
   "id": "9555bb6f",
   "metadata": {},
   "outputs": [],
   "source": [
    "import os\n",
    "import nltk\n",
    "import nltk.corpus"
   ]
  },
  {
   "cell_type": "code",
   "execution_count": 4,
   "id": "588ddfe1",
   "metadata": {},
   "outputs": [
    {
     "name": "stdout",
     "output_type": "stream",
     "text": [
      "['genesis', 'genesis.zip', 'gutenberg', 'gutenberg.zip', 'inaugural', 'inaugural.zip', 'nps_chat', 'nps_chat.zip', 'treebank', 'treebank.zip', 'webtext', 'webtext.zip']\n"
     ]
    }
   ],
   "source": [
    "print(os.listdir(nltk.data.find(\"corpora\")))"
   ]
  },
  {
   "cell_type": "code",
   "execution_count": 5,
   "id": "14882b1a",
   "metadata": {},
   "outputs": [
    {
     "data": {
      "text/plain": [
       "['In', 'the', 'beginning', 'God', 'created', 'the', ...]"
      ]
     },
     "execution_count": 5,
     "metadata": {},
     "output_type": "execute_result"
    }
   ],
   "source": [
    "from nltk.corpus import genesis\n",
    "genesis.words()"
   ]
  },
  {
   "cell_type": "code",
   "execution_count": 6,
   "id": "a406a5fd",
   "metadata": {
    "scrolled": true
   },
   "outputs": [
    {
     "data": {
      "text/plain": [
       "['austen-emma.txt',\n",
       " 'austen-persuasion.txt',\n",
       " 'austen-sense.txt',\n",
       " 'bible-kjv.txt',\n",
       " 'blake-poems.txt',\n",
       " 'bryant-stories.txt',\n",
       " 'burgess-busterbrown.txt',\n",
       " 'carroll-alice.txt',\n",
       " 'chesterton-ball.txt',\n",
       " 'chesterton-brown.txt',\n",
       " 'chesterton-thursday.txt',\n",
       " 'edgeworth-parents.txt',\n",
       " 'melville-moby_dick.txt',\n",
       " 'milton-paradise.txt',\n",
       " 'shakespeare-caesar.txt',\n",
       " 'shakespeare-hamlet.txt',\n",
       " 'shakespeare-macbeth.txt',\n",
       " 'whitman-leaves.txt']"
      ]
     },
     "execution_count": 6,
     "metadata": {},
     "output_type": "execute_result"
    }
   ],
   "source": [
    "nltk.corpus.gutenberg.fileids()"
   ]
  },
  {
   "cell_type": "code",
   "execution_count": 7,
   "id": "a7d4ce4e",
   "metadata": {},
   "outputs": [
    {
     "data": {
      "text/plain": [
       "['[', 'The', 'Tragedie', 'of', 'Hamlet', 'by', ...]"
      ]
     },
     "execution_count": 7,
     "metadata": {},
     "output_type": "execute_result"
    }
   ],
   "source": [
    "hamlet = nltk.corpus.gutenberg.words(\"shakespeare-hamlet.txt\")\n",
    "hamlet"
   ]
  },
  {
   "cell_type": "code",
   "execution_count": 8,
   "id": "45fa2916",
   "metadata": {
    "scrolled": true
   },
   "outputs": [
    {
     "name": "stdout",
     "output_type": "stream",
     "text": [
      "[ The Tragedie of Hamlet by William Shakespeare 1599 ] Actus Primus . Scoena Prima . Enter Barnardo and Francisco two Centinels . Barnardo . Who ' s there ? Fran . Nay answer me : Stand & vnfold your selfe Bar . Long liue the King Fran . Barnardo ? Bar . He Fran . You come most carefully vpon your houre Bar . ' Tis now strook twelue , get thee to bed Francisco Fran . For this releefe much thankes : ' Tis bitter cold , And I am sicke at heart Barn . Haue you had quiet Guard ? Fran . Not a Mouse stirring Barn . Well , goodnight . If you do meet Horatio and Marcellus , the Riuals of my Watch , bid them make hast . Enter Horatio and Marcellus . Fran . I thinke I heare them . Stand : who ' s there ? Hor . Friends to this ground Mar . And Leige - men to the Dane Fran . Giue you good night Mar . O farwel honest Soldier , who hath relieu ' d you ? Fra . Barnardo ha ' s my place : giue you goodnight . Exit Fran . Mar . Holla Barnardo Bar . Say , what is Horatio there ? Hor . A peece of him Bar . Welcome Horatio , welcome good Marcellus Mar . What , ha ' s this thing appear ' d againe to night Bar . I haue seene nothing Mar . Horatio saies , ' tis but our Fantasie , And will not let beleefe take hold of him Touching this dreaded sight , twice seene of vs , Therefore I haue intreated him along With vs , to watch the minutes of this Night , That if againe this Apparition come , He may approue our eyes , and speake to it Hor . Tush , tush , ' twill not appeare Bar . Sit downe a - while , And let vs once againe assaile your eares , That are so fortified against our Story , What we two Nights haue seene Hor . Well , sit we downe , And let vs heare Barnardo speake of this Barn . Last night of all , When yond same Starre that ' s Westward from the Pole Had made his course t ' illume that part of Heauen Where now it burnes , Marcellus and my selfe , The Bell then beating one Mar . Peace , breake thee of : Enter the Ghost . Looke where it comes againe Barn . In the same figure , like the King that ' s dead Mar . Thou art a Scholler ; speake to it Horatio Barn . Lookes it not like the King ? Marke it Horatio Hora . Most like : It harrowes me with fear & wonder Barn . It would be spoke too Mar . Question it Horatio Hor . What art "
     ]
    }
   ],
   "source": [
    "for word in hamlet[:500]:\n",
    "    print(word, sep=' ', end=' ')"
   ]
  },
  {
   "cell_type": "code",
   "execution_count": 120,
   "id": "bd4577ec",
   "metadata": {},
   "outputs": [],
   "source": [
    "mytxt=\"\"\"Every day we see and meet people who look happy from the outside but deep down they are broken and are sad from the inside. For many people, money is the main cause of happiness or grief. But this is not right. Money can buy you food, luxurious house, healthy lifestyle servants, and many more facilities but money can’t buy you happiness.\n",
    "\n",
    "And if money can buy happiness then the rich would be the happiest person on the earth. But, we see a contrary image of the rich as they are sad, fearful, anxious, stressed, and suffering from various problems.\n",
    "\n",
    "In addition, they have money still they lack in social life with their family especially their wives and this is the main cause of divorce among them.\"\"\""
   ]
  },
  {
   "cell_type": "code",
   "execution_count": 10,
   "id": "7e080c2c",
   "metadata": {},
   "outputs": [
    {
     "data": {
      "text/plain": [
       "str"
      ]
     },
     "execution_count": 10,
     "metadata": {},
     "output_type": "execute_result"
    }
   ],
   "source": [
    "type(mytxt)"
   ]
  },
  {
   "cell_type": "code",
   "execution_count": 11,
   "id": "de1eb288",
   "metadata": {},
   "outputs": [],
   "source": [
    "from nltk.tokenize import word_tokenize"
   ]
  },
  {
   "cell_type": "code",
   "execution_count": 12,
   "id": "31ca39d5",
   "metadata": {
    "scrolled": false
   },
   "outputs": [
    {
     "data": {
      "text/plain": [
       "['Every',\n",
       " 'day',\n",
       " 'we',\n",
       " 'see',\n",
       " 'and',\n",
       " 'meet',\n",
       " 'people',\n",
       " 'who',\n",
       " 'look',\n",
       " 'happy',\n",
       " 'from',\n",
       " 'the',\n",
       " 'outside',\n",
       " 'but',\n",
       " 'deep',\n",
       " 'down',\n",
       " 'they',\n",
       " 'are',\n",
       " 'broken',\n",
       " 'and',\n",
       " 'are',\n",
       " 'sad',\n",
       " 'from',\n",
       " 'the',\n",
       " 'inside',\n",
       " '.',\n",
       " 'For',\n",
       " 'many',\n",
       " 'people',\n",
       " ',',\n",
       " 'money',\n",
       " 'is',\n",
       " 'the',\n",
       " 'main',\n",
       " 'cause',\n",
       " 'of',\n",
       " 'happiness',\n",
       " 'or',\n",
       " 'grief',\n",
       " '.',\n",
       " 'But',\n",
       " 'this',\n",
       " 'is',\n",
       " 'not',\n",
       " 'right',\n",
       " '.',\n",
       " 'Money',\n",
       " 'can',\n",
       " 'buy',\n",
       " 'you',\n",
       " 'food',\n",
       " ',',\n",
       " 'luxurious',\n",
       " 'house',\n",
       " ',',\n",
       " 'healthy',\n",
       " 'lifestyle',\n",
       " 'servants',\n",
       " ',',\n",
       " 'and',\n",
       " 'many',\n",
       " 'more',\n",
       " 'facilities',\n",
       " 'but',\n",
       " 'money',\n",
       " 'can',\n",
       " '’',\n",
       " 't',\n",
       " 'buy',\n",
       " 'you',\n",
       " 'happiness',\n",
       " '.',\n",
       " 'And',\n",
       " 'if',\n",
       " 'money',\n",
       " 'can',\n",
       " 'buy',\n",
       " 'happiness',\n",
       " 'then',\n",
       " 'the',\n",
       " 'rich',\n",
       " 'would',\n",
       " 'be',\n",
       " 'the',\n",
       " 'happiest',\n",
       " 'person',\n",
       " 'on',\n",
       " 'the',\n",
       " 'earth',\n",
       " '.',\n",
       " 'But',\n",
       " ',',\n",
       " 'we',\n",
       " 'see',\n",
       " 'a',\n",
       " 'contrary',\n",
       " 'image',\n",
       " 'of',\n",
       " 'the',\n",
       " 'rich',\n",
       " 'as',\n",
       " 'they',\n",
       " 'are',\n",
       " 'sad',\n",
       " ',',\n",
       " 'fearful',\n",
       " ',',\n",
       " 'anxious',\n",
       " ',',\n",
       " 'stressed',\n",
       " ',',\n",
       " 'and',\n",
       " 'suffering',\n",
       " 'from',\n",
       " 'various',\n",
       " 'problems',\n",
       " '.',\n",
       " 'In',\n",
       " 'addition',\n",
       " ',',\n",
       " 'they',\n",
       " 'have',\n",
       " 'money',\n",
       " 'still',\n",
       " 'they',\n",
       " 'lack',\n",
       " 'in',\n",
       " 'social',\n",
       " 'life',\n",
       " 'with',\n",
       " 'their',\n",
       " 'family',\n",
       " 'especially',\n",
       " 'their',\n",
       " 'wives',\n",
       " 'and',\n",
       " 'this',\n",
       " 'is',\n",
       " 'the',\n",
       " 'main',\n",
       " 'cause',\n",
       " 'of',\n",
       " 'divorce',\n",
       " 'among',\n",
       " 'them',\n",
       " '.']"
      ]
     },
     "execution_count": 12,
     "metadata": {},
     "output_type": "execute_result"
    }
   ],
   "source": [
    "mytxt_tokens=word_tokenize(mytxt)\n",
    "mytxt_tokens"
   ]
  },
  {
   "cell_type": "code",
   "execution_count": 13,
   "id": "0622c019",
   "metadata": {},
   "outputs": [
    {
     "name": "stderr",
     "output_type": "stream",
     "text": [
      "[nltk_data] Downloading package punkt to\n",
      "[nltk_data]     C:\\Users\\Admin\\AppData\\Roaming\\nltk_data...\n",
      "[nltk_data]   Package punkt is already up-to-date!\n"
     ]
    },
    {
     "data": {
      "text/plain": [
       "True"
      ]
     },
     "execution_count": 13,
     "metadata": {},
     "output_type": "execute_result"
    }
   ],
   "source": [
    "nltk.download('punkt')"
   ]
  },
  {
   "cell_type": "code",
   "execution_count": 14,
   "id": "5b8e385b",
   "metadata": {},
   "outputs": [
    {
     "data": {
      "text/plain": [
       "146"
      ]
     },
     "execution_count": 14,
     "metadata": {},
     "output_type": "execute_result"
    }
   ],
   "source": [
    "len(mytxt_tokens)"
   ]
  },
  {
   "cell_type": "code",
   "execution_count": 15,
   "id": "fdb5ed5c",
   "metadata": {},
   "outputs": [],
   "source": [
    "from nltk.probability import FreqDist\n",
    "freq = FreqDist()"
   ]
  },
  {
   "cell_type": "code",
   "execution_count": 16,
   "id": "c9acbbab",
   "metadata": {},
   "outputs": [
    {
     "data": {
      "text/plain": [
       "FreqDist({',': 10, 'the': 8, '.': 7, 'and': 6, 'money': 5, 'but': 4, 'they': 4, 'from': 3, 'are': 3, 'is': 3, ...})"
      ]
     },
     "execution_count": 16,
     "metadata": {},
     "output_type": "execute_result"
    }
   ],
   "source": [
    "for word in mytxt_tokens:\n",
    "    freq[word.lower()] += 1\n",
    "freq"
   ]
  },
  {
   "cell_type": "code",
   "execution_count": 121,
   "id": "e1cf38dd",
   "metadata": {},
   "outputs": [
    {
     "data": {
      "text/plain": [
       "5"
      ]
     },
     "execution_count": 121,
     "metadata": {},
     "output_type": "execute_result"
    }
   ],
   "source": [
    "freq['money']"
   ]
  },
  {
   "cell_type": "code",
   "execution_count": 18,
   "id": "eb2ec0e5",
   "metadata": {},
   "outputs": [
    {
     "data": {
      "text/plain": [
       "83"
      ]
     },
     "execution_count": 18,
     "metadata": {},
     "output_type": "execute_result"
    }
   ],
   "source": [
    "len(freq)"
   ]
  },
  {
   "cell_type": "code",
   "execution_count": 123,
   "id": "cc637316",
   "metadata": {},
   "outputs": [
    {
     "data": {
      "text/plain": [
       "[(',', 10),\n",
       " ('the', 8),\n",
       " ('.', 7),\n",
       " ('and', 6),\n",
       " ('money', 5),\n",
       " ('but', 4),\n",
       " ('they', 4),\n",
       " ('from', 3),\n",
       " ('are', 3),\n",
       " ('is', 3)]"
      ]
     },
     "execution_count": 123,
     "metadata": {},
     "output_type": "execute_result"
    }
   ],
   "source": [
    "freq_top10 = freq.most_common(10)\n",
    "freq_top10"
   ]
  },
  {
   "cell_type": "code",
   "execution_count": 20,
   "id": "f5c5bfa3",
   "metadata": {},
   "outputs": [
    {
     "data": {
      "text/plain": [
       "3"
      ]
     },
     "execution_count": 20,
     "metadata": {},
     "output_type": "execute_result"
    }
   ],
   "source": [
    "#TOKENIZE PARAGRAPH\n",
    "from nltk.tokenize import blankline_tokenize\n",
    "mytxt_blank_token = blankline_tokenize(mytxt)\n",
    "len(mytxt_blank_token) #provides no. of paragraphs in text"
   ]
  },
  {
   "cell_type": "code",
   "execution_count": 21,
   "id": "30a7bddd",
   "metadata": {},
   "outputs": [
    {
     "data": {
      "text/plain": [
       "'In addition, they have money still they lack in social life with their family especially their wives and this is the main cause of divorce among them.'"
      ]
     },
     "execution_count": 21,
     "metadata": {},
     "output_type": "execute_result"
    }
   ],
   "source": [
    "mytxt_blank_token[2]  #provides second paraghaph"
   ]
  },
  {
   "cell_type": "code",
   "execution_count": 22,
   "id": "dd1e74c2",
   "metadata": {},
   "outputs": [],
   "source": [
    "#tokens of 2/3/n\n",
    "from nltk.util import bigrams, trigrams, ngrams\n"
   ]
  },
  {
   "cell_type": "code",
   "execution_count": 23,
   "id": "954c810e",
   "metadata": {
    "scrolled": true
   },
   "outputs": [
    {
     "data": {
      "text/plain": [
       "['the',\n",
       " 'best',\n",
       " 'and',\n",
       " 'most',\n",
       " 'beautiful',\n",
       " 'things',\n",
       " 'in',\n",
       " 'the',\n",
       " 'world',\n",
       " 'can',\n",
       " 'not',\n",
       " 'be',\n",
       " 'seen',\n",
       " 'or',\n",
       " 'even',\n",
       " 'touched',\n",
       " '.',\n",
       " 'They',\n",
       " 'can',\n",
       " 'be',\n",
       " 'felt',\n",
       " 'with',\n",
       " 'the',\n",
       " 'heart',\n",
       " '.']"
      ]
     },
     "execution_count": 23,
     "metadata": {},
     "output_type": "execute_result"
    }
   ],
   "source": [
    "string =\"the best and  most beautiful things in the world cannot be seen or even touched. They can be felt with the heart.\"\n",
    "quote_token = nltk.word_tokenize(string)\n",
    "quote_token"
   ]
  },
  {
   "cell_type": "code",
   "execution_count": 24,
   "id": "78c23560",
   "metadata": {},
   "outputs": [
    {
     "data": {
      "text/plain": [
       "[('the', 'best'),\n",
       " ('best', 'and'),\n",
       " ('and', 'most'),\n",
       " ('most', 'beautiful'),\n",
       " ('beautiful', 'things'),\n",
       " ('things', 'in'),\n",
       " ('in', 'the'),\n",
       " ('the', 'world'),\n",
       " ('world', 'can'),\n",
       " ('can', 'not'),\n",
       " ('not', 'be'),\n",
       " ('be', 'seen'),\n",
       " ('seen', 'or'),\n",
       " ('or', 'even'),\n",
       " ('even', 'touched'),\n",
       " ('touched', '.'),\n",
       " ('.', 'They'),\n",
       " ('They', 'can'),\n",
       " ('can', 'be'),\n",
       " ('be', 'felt'),\n",
       " ('felt', 'with'),\n",
       " ('with', 'the'),\n",
       " ('the', 'heart'),\n",
       " ('heart', '.')]"
      ]
     },
     "execution_count": 24,
     "metadata": {},
     "output_type": "execute_result"
    }
   ],
   "source": [
    "quote_bigram = list(nltk.bigrams(quote_token))\n",
    "quote_bigram"
   ]
  },
  {
   "cell_type": "code",
   "execution_count": 25,
   "id": "e8f72ef9",
   "metadata": {},
   "outputs": [
    {
     "data": {
      "text/plain": [
       "[('the', 'best', 'and'),\n",
       " ('best', 'and', 'most'),\n",
       " ('and', 'most', 'beautiful'),\n",
       " ('most', 'beautiful', 'things'),\n",
       " ('beautiful', 'things', 'in'),\n",
       " ('things', 'in', 'the'),\n",
       " ('in', 'the', 'world'),\n",
       " ('the', 'world', 'can'),\n",
       " ('world', 'can', 'not'),\n",
       " ('can', 'not', 'be'),\n",
       " ('not', 'be', 'seen'),\n",
       " ('be', 'seen', 'or'),\n",
       " ('seen', 'or', 'even'),\n",
       " ('or', 'even', 'touched'),\n",
       " ('even', 'touched', '.'),\n",
       " ('touched', '.', 'They'),\n",
       " ('.', 'They', 'can'),\n",
       " ('They', 'can', 'be'),\n",
       " ('can', 'be', 'felt'),\n",
       " ('be', 'felt', 'with'),\n",
       " ('felt', 'with', 'the'),\n",
       " ('with', 'the', 'heart'),\n",
       " ('the', 'heart', '.')]"
      ]
     },
     "execution_count": 25,
     "metadata": {},
     "output_type": "execute_result"
    }
   ],
   "source": [
    "quote_trigram = list(nltk.trigrams(quote_token))\n",
    "4quote_trigram"
   ]
  },
  {
   "cell_type": "code",
   "execution_count": 29,
   "id": "478a3534",
   "metadata": {},
   "outputs": [
    {
     "data": {
      "text/plain": [
       "[('the', 'best', 'and', 'most', 'beautiful'),\n",
       " ('best', 'and', 'most', 'beautiful', 'things'),\n",
       " ('and', 'most', 'beautiful', 'things', 'in'),\n",
       " ('most', 'beautiful', 'things', 'in', 'the'),\n",
       " ('beautiful', 'things', 'in', 'the', 'world'),\n",
       " ('things', 'in', 'the', 'world', 'can'),\n",
       " ('in', 'the', 'world', 'can', 'not'),\n",
       " ('the', 'world', 'can', 'not', 'be'),\n",
       " ('world', 'can', 'not', 'be', 'seen'),\n",
       " ('can', 'not', 'be', 'seen', 'or'),\n",
       " ('not', 'be', 'seen', 'or', 'even'),\n",
       " ('be', 'seen', 'or', 'even', 'touched'),\n",
       " ('seen', 'or', 'even', 'touched', '.'),\n",
       " ('or', 'even', 'touched', '.', 'They'),\n",
       " ('even', 'touched', '.', 'They', 'can'),\n",
       " ('touched', '.', 'They', 'can', 'be'),\n",
       " ('.', 'They', 'can', 'be', 'felt'),\n",
       " ('They', 'can', 'be', 'felt', 'with'),\n",
       " ('can', 'be', 'felt', 'with', 'the'),\n",
       " ('be', 'felt', 'with', 'the', 'heart'),\n",
       " ('felt', 'with', 'the', 'heart', '.')]"
      ]
     },
     "execution_count": 29,
     "metadata": {},
     "output_type": "execute_result"
    }
   ],
   "source": [
    "quote_trigram = list(nltk.ngrams(quote_token,5))\n",
    "quote_trigram"
   ]
  },
  {
   "cell_type": "code",
   "execution_count": 32,
   "id": "2d619d14",
   "metadata": {},
   "outputs": [],
   "source": [
    "from nltk.stem import PorterStemmer\n",
    "pst = PorterStemmer()"
   ]
  },
  {
   "cell_type": "code",
   "execution_count": 125,
   "id": "119dd783",
   "metadata": {},
   "outputs": [
    {
     "data": {
      "text/plain": [
       "'observ'"
      ]
     },
     "execution_count": 125,
     "metadata": {},
     "output_type": "execute_result"
    }
   ],
   "source": [
    "pst.stem(\"observation\")"
   ]
  },
  {
   "cell_type": "code",
   "execution_count": 37,
   "id": "37cbb38d",
   "metadata": {},
   "outputs": [
    {
     "name": "stdout",
     "output_type": "stream",
     "text": [
      "give:give\n",
      "giving:give\n",
      "given:given\n",
      "gave:gave\n"
     ]
    }
   ],
   "source": [
    "words_to_stem=[\"give\",\"giving\",\"given\",\"gave\"]\n",
    "for word in words_to_stem:\n",
    "    print(word+\":\"+ pst.stem(word))"
   ]
  },
  {
   "cell_type": "code",
   "execution_count": 39,
   "id": "66813ab3",
   "metadata": {},
   "outputs": [],
   "source": [
    "from nltk.stem import LancasterStemmer\n",
    "lst= LancasterStemmer()"
   ]
  },
  {
   "cell_type": "code",
   "execution_count": 41,
   "id": "2f175630",
   "metadata": {},
   "outputs": [
    {
     "name": "stdout",
     "output_type": "stream",
     "text": [
      "give:giv\n",
      "giving:giv\n",
      "given:giv\n",
      "gave:gav\n"
     ]
    }
   ],
   "source": [
    "for word in words_to_stem:\n",
    "    print(word+\":\"+ lst.stem(word))"
   ]
  },
  {
   "cell_type": "code",
   "execution_count": 44,
   "id": "b9e2da83",
   "metadata": {},
   "outputs": [],
   "source": [
    "from nltk.stem import SnowballStemmer\n",
    "sbs = SnowballStemmer('english')"
   ]
  },
  {
   "cell_type": "code",
   "execution_count": 46,
   "id": "85a179ea",
   "metadata": {},
   "outputs": [
    {
     "name": "stdout",
     "output_type": "stream",
     "text": [
      "give:give\n",
      "giving:give\n",
      "given:given\n",
      "gave:gave\n"
     ]
    }
   ],
   "source": [
    "for word in words_to_stem:\n",
    "    print(word+\":\"+ sbs.stem(word))"
   ]
  },
  {
   "cell_type": "code",
   "execution_count": 50,
   "id": "a6c3f576",
   "metadata": {},
   "outputs": [],
   "source": [
    "from nltk.stem import wordnet\n",
    "from nltk.stem import WordNetLemmatizer\n",
    "word_lem = WordNetLemmatizer()"
   ]
  },
  {
   "cell_type": "code",
   "execution_count": 129,
   "id": "323eef16",
   "metadata": {},
   "outputs": [
    {
     "data": {
      "text/plain": [
       "'corpus'"
      ]
     },
     "execution_count": 129,
     "metadata": {},
     "output_type": "execute_result"
    }
   ],
   "source": [
    "word_lem.lemmatize('corpora')"
   ]
  },
  {
   "cell_type": "code",
   "execution_count": 61,
   "id": "da5f3303",
   "metadata": {},
   "outputs": [
    {
     "name": "stderr",
     "output_type": "stream",
     "text": [
      "[nltk_data] Downloading package wordnet to\n",
      "[nltk_data]     C:\\Users\\Admin\\AppData\\Roaming\\nltk_data...\n",
      "[nltk_data]   Package wordnet is already up-to-date!\n"
     ]
    },
    {
     "data": {
      "text/plain": [
       "True"
      ]
     },
     "execution_count": 61,
     "metadata": {},
     "output_type": "execute_result"
    }
   ],
   "source": [
    "nltk.download('wordnet')"
   ]
  },
  {
   "cell_type": "code",
   "execution_count": 66,
   "id": "592f0915",
   "metadata": {},
   "outputs": [
    {
     "name": "stderr",
     "output_type": "stream",
     "text": [
      "[nltk_data] Downloading package stopwords to\n",
      "[nltk_data]     C:\\Users\\Admin\\AppData\\Roaming\\nltk_data...\n",
      "[nltk_data]   Unzipping corpora\\stopwords.zip.\n"
     ]
    },
    {
     "data": {
      "text/plain": [
       "True"
      ]
     },
     "execution_count": 66,
     "metadata": {},
     "output_type": "execute_result"
    }
   ],
   "source": [
    "nltk.download('stopwords')"
   ]
  },
  {
   "cell_type": "code",
   "execution_count": 67,
   "id": "00d3fa9e",
   "metadata": {},
   "outputs": [],
   "source": [
    "from nltk.corpus import stopwords"
   ]
  },
  {
   "cell_type": "code",
   "execution_count": 133,
   "id": "02b306aa",
   "metadata": {},
   "outputs": [
    {
     "data": {
      "text/plain": [
       "['i',\n",
       " 'me',\n",
       " 'my',\n",
       " 'myself',\n",
       " 'we',\n",
       " 'our',\n",
       " 'ours',\n",
       " 'ourselves',\n",
       " 'you',\n",
       " \"you're\",\n",
       " \"you've\",\n",
       " \"you'll\",\n",
       " \"you'd\",\n",
       " 'your',\n",
       " 'yours',\n",
       " 'yourself',\n",
       " 'yourselves',\n",
       " 'he',\n",
       " 'him',\n",
       " 'his',\n",
       " 'himself',\n",
       " 'she',\n",
       " \"she's\",\n",
       " 'her',\n",
       " 'hers',\n",
       " 'herself',\n",
       " 'it',\n",
       " \"it's\",\n",
       " 'its',\n",
       " 'itself',\n",
       " 'they',\n",
       " 'them',\n",
       " 'their',\n",
       " 'theirs',\n",
       " 'themselves',\n",
       " 'what',\n",
       " 'which',\n",
       " 'who',\n",
       " 'whom',\n",
       " 'this',\n",
       " 'that',\n",
       " \"that'll\",\n",
       " 'these',\n",
       " 'those',\n",
       " 'am',\n",
       " 'is',\n",
       " 'are',\n",
       " 'was',\n",
       " 'were',\n",
       " 'be',\n",
       " 'been',\n",
       " 'being',\n",
       " 'have',\n",
       " 'has',\n",
       " 'had',\n",
       " 'having',\n",
       " 'do',\n",
       " 'does',\n",
       " 'did',\n",
       " 'doing',\n",
       " 'a',\n",
       " 'an',\n",
       " 'the',\n",
       " 'and',\n",
       " 'but',\n",
       " 'if',\n",
       " 'or',\n",
       " 'because',\n",
       " 'as',\n",
       " 'until',\n",
       " 'while',\n",
       " 'of',\n",
       " 'at',\n",
       " 'by',\n",
       " 'for',\n",
       " 'with',\n",
       " 'about',\n",
       " 'against',\n",
       " 'between',\n",
       " 'into',\n",
       " 'through',\n",
       " 'during',\n",
       " 'before',\n",
       " 'after',\n",
       " 'above',\n",
       " 'below',\n",
       " 'to',\n",
       " 'from',\n",
       " 'up',\n",
       " 'down',\n",
       " 'in',\n",
       " 'out',\n",
       " 'on',\n",
       " 'off',\n",
       " 'over',\n",
       " 'under',\n",
       " 'again',\n",
       " 'further',\n",
       " 'then',\n",
       " 'once',\n",
       " 'here',\n",
       " 'there',\n",
       " 'when',\n",
       " 'where',\n",
       " 'why',\n",
       " 'how',\n",
       " 'all',\n",
       " 'any',\n",
       " 'both',\n",
       " 'each',\n",
       " 'few',\n",
       " 'more',\n",
       " 'most',\n",
       " 'other',\n",
       " 'some',\n",
       " 'such',\n",
       " 'no',\n",
       " 'nor',\n",
       " 'not',\n",
       " 'only',\n",
       " 'own',\n",
       " 'same',\n",
       " 'so',\n",
       " 'than',\n",
       " 'too',\n",
       " 'very',\n",
       " 's',\n",
       " 't',\n",
       " 'can',\n",
       " 'will',\n",
       " 'just',\n",
       " 'don',\n",
       " \"don't\",\n",
       " 'should',\n",
       " \"should've\",\n",
       " 'now',\n",
       " 'd',\n",
       " 'll',\n",
       " 'm',\n",
       " 'o',\n",
       " 're',\n",
       " 've',\n",
       " 'y',\n",
       " 'ain',\n",
       " 'aren',\n",
       " \"aren't\",\n",
       " 'couldn',\n",
       " \"couldn't\",\n",
       " 'didn',\n",
       " \"didn't\",\n",
       " 'doesn',\n",
       " \"doesn't\",\n",
       " 'hadn',\n",
       " \"hadn't\",\n",
       " 'hasn',\n",
       " \"hasn't\",\n",
       " 'haven',\n",
       " \"haven't\",\n",
       " 'isn',\n",
       " \"isn't\",\n",
       " 'ma',\n",
       " 'mightn',\n",
       " \"mightn't\",\n",
       " 'mustn',\n",
       " \"mustn't\",\n",
       " 'needn',\n",
       " \"needn't\",\n",
       " 'shan',\n",
       " \"shan't\",\n",
       " 'shouldn',\n",
       " \"shouldn't\",\n",
       " 'wasn',\n",
       " \"wasn't\",\n",
       " 'weren',\n",
       " \"weren't\",\n",
       " 'won',\n",
       " \"won't\",\n",
       " 'wouldn',\n",
       " \"wouldn't\"]"
      ]
     },
     "execution_count": 133,
     "metadata": {},
     "output_type": "execute_result"
    }
   ],
   "source": [
    "stopwords.words('english')"
   ]
  },
  {
   "cell_type": "code",
   "execution_count": 76,
   "id": "ee87f1b4",
   "metadata": {},
   "outputs": [
    {
     "data": {
      "text/plain": [
       "179"
      ]
     },
     "execution_count": 76,
     "metadata": {},
     "output_type": "execute_result"
    }
   ],
   "source": [
    "len(stopwords.words('english'))"
   ]
  },
  {
   "cell_type": "code",
   "execution_count": 80,
   "id": "bd6ce9e7",
   "metadata": {
    "scrolled": true
   },
   "outputs": [
    {
     "data": {
      "text/plain": [
       "[(',', 10),\n",
       " ('the', 8),\n",
       " ('.', 7),\n",
       " ('and', 6),\n",
       " ('money', 5),\n",
       " ('but', 4),\n",
       " ('they', 4),\n",
       " ('from', 3),\n",
       " ('are', 3),\n",
       " ('is', 3)]"
      ]
     },
     "execution_count": 80,
     "metadata": {},
     "output_type": "execute_result"
    }
   ],
   "source": [
    "freq_top10"
   ]
  },
  {
   "cell_type": "code",
   "execution_count": 83,
   "id": "7221c2a7",
   "metadata": {},
   "outputs": [],
   "source": [
    "import re\n",
    "punctuation = re.compile(r'[-.?!,:;()|0-9]')"
   ]
  },
  {
   "cell_type": "code",
   "execution_count": 85,
   "id": "b399e782",
   "metadata": {},
   "outputs": [],
   "source": [
    "post_punctuation=[]\n",
    "for words in mytxt_tokens:\n",
    "    word=punctuation.sub(\"\", words)\n",
    "    if len(word)>0:\n",
    "        post_punctuation.append(word)"
   ]
  },
  {
   "cell_type": "code",
   "execution_count": 87,
   "id": "527ac019",
   "metadata": {},
   "outputs": [
    {
     "data": {
      "text/plain": [
       "['Every',\n",
       " 'day',\n",
       " 'we',\n",
       " 'see',\n",
       " 'and',\n",
       " 'meet',\n",
       " 'people',\n",
       " 'who',\n",
       " 'look',\n",
       " 'happy',\n",
       " 'from',\n",
       " 'the',\n",
       " 'outside',\n",
       " 'but',\n",
       " 'deep',\n",
       " 'down',\n",
       " 'they',\n",
       " 'are',\n",
       " 'broken',\n",
       " 'and',\n",
       " 'are',\n",
       " 'sad',\n",
       " 'from',\n",
       " 'the',\n",
       " 'inside',\n",
       " 'For',\n",
       " 'many',\n",
       " 'people',\n",
       " 'money',\n",
       " 'is',\n",
       " 'the',\n",
       " 'main',\n",
       " 'cause',\n",
       " 'of',\n",
       " 'happiness',\n",
       " 'or',\n",
       " 'grief',\n",
       " 'But',\n",
       " 'this',\n",
       " 'is',\n",
       " 'not',\n",
       " 'right',\n",
       " 'Money',\n",
       " 'can',\n",
       " 'buy',\n",
       " 'you',\n",
       " 'food',\n",
       " 'luxurious',\n",
       " 'house',\n",
       " 'healthy',\n",
       " 'lifestyle',\n",
       " 'servants',\n",
       " 'and',\n",
       " 'many',\n",
       " 'more',\n",
       " 'facilities',\n",
       " 'but',\n",
       " 'money',\n",
       " 'can',\n",
       " '’',\n",
       " 't',\n",
       " 'buy',\n",
       " 'you',\n",
       " 'happiness',\n",
       " 'And',\n",
       " 'if',\n",
       " 'money',\n",
       " 'can',\n",
       " 'buy',\n",
       " 'happiness',\n",
       " 'then',\n",
       " 'the',\n",
       " 'rich',\n",
       " 'would',\n",
       " 'be',\n",
       " 'the',\n",
       " 'happiest',\n",
       " 'person',\n",
       " 'on',\n",
       " 'the',\n",
       " 'earth',\n",
       " 'But',\n",
       " 'we',\n",
       " 'see',\n",
       " 'a',\n",
       " 'contrary',\n",
       " 'image',\n",
       " 'of',\n",
       " 'the',\n",
       " 'rich',\n",
       " 'as',\n",
       " 'they',\n",
       " 'are',\n",
       " 'sad',\n",
       " 'fearful',\n",
       " 'anxious',\n",
       " 'stressed',\n",
       " 'and',\n",
       " 'suffering',\n",
       " 'from',\n",
       " 'various',\n",
       " 'problems',\n",
       " 'In',\n",
       " 'addition',\n",
       " 'they',\n",
       " 'have',\n",
       " 'money',\n",
       " 'still',\n",
       " 'they',\n",
       " 'lack',\n",
       " 'in',\n",
       " 'social',\n",
       " 'life',\n",
       " 'with',\n",
       " 'their',\n",
       " 'family',\n",
       " 'especially',\n",
       " 'their',\n",
       " 'wives',\n",
       " 'and',\n",
       " 'this',\n",
       " 'is',\n",
       " 'the',\n",
       " 'main',\n",
       " 'cause',\n",
       " 'of',\n",
       " 'divorce',\n",
       " 'among',\n",
       " 'them']"
      ]
     },
     "execution_count": 87,
     "metadata": {},
     "output_type": "execute_result"
    }
   ],
   "source": [
    "post_punctuation"
   ]
  },
  {
   "cell_type": "code",
   "execution_count": 98,
   "id": "c891f8cc",
   "metadata": {},
   "outputs": [],
   "source": [
    "sentense1 = \"India is a great country\"\n",
    "sentense1_tokens = word_tokenize(sentense1)"
   ]
  },
  {
   "cell_type": "code",
   "execution_count": 99,
   "id": "8b8c25ac",
   "metadata": {},
   "outputs": [
    {
     "data": {
      "text/plain": [
       "['India', 'is', 'a', 'great', 'country']"
      ]
     },
     "execution_count": 99,
     "metadata": {},
     "output_type": "execute_result"
    }
   ],
   "source": [
    "sentense1_tokens"
   ]
  },
  {
   "cell_type": "code",
   "execution_count": 93,
   "id": "7076f53d",
   "metadata": {},
   "outputs": [
    {
     "name": "stderr",
     "output_type": "stream",
     "text": [
      "[nltk_data] Downloading package averaged_perceptron_tagger to\n",
      "[nltk_data]     C:\\Users\\Admin\\AppData\\Roaming\\nltk_data...\n",
      "[nltk_data]   Unzipping taggers\\averaged_perceptron_tagger.zip.\n"
     ]
    },
    {
     "data": {
      "text/plain": [
       "True"
      ]
     },
     "execution_count": 93,
     "metadata": {},
     "output_type": "execute_result"
    }
   ],
   "source": [
    "nltk.download('averaged_perceptron_tagger')"
   ]
  },
  {
   "cell_type": "code",
   "execution_count": 100,
   "id": "24ab29c1",
   "metadata": {
    "scrolled": true
   },
   "outputs": [
    {
     "name": "stdout",
     "output_type": "stream",
     "text": [
      "[('India', 'NNP')]\n",
      "[('is', 'VBZ')]\n",
      "[('a', 'DT')]\n",
      "[('great', 'JJ')]\n",
      "[('country', 'NN')]\n"
     ]
    }
   ],
   "source": [
    "for token in sentense1_tokens:\n",
    "    print(nltk.pos_tag([token]))"
   ]
  },
  {
   "cell_type": "code",
   "execution_count": 102,
   "id": "c0611316",
   "metadata": {},
   "outputs": [],
   "source": [
    "from nltk import ne_chunk"
   ]
  },
  {
   "cell_type": "code",
   "execution_count": 134,
   "id": "23df90d3",
   "metadata": {},
   "outputs": [],
   "source": [
    "NE_sen = \"The US president Barak Obama stays in White House\""
   ]
  },
  {
   "cell_type": "code",
   "execution_count": 135,
   "id": "ad0f3620",
   "metadata": {},
   "outputs": [],
   "source": [
    "NE_tokens = word_tokenize(NE_sen)\n",
    "NE_tags = nltk.pos_tag(NE_tokens)"
   ]
  },
  {
   "cell_type": "code",
   "execution_count": 136,
   "id": "247a681f",
   "metadata": {},
   "outputs": [
    {
     "data": {
      "text/plain": [
       "[('The', 'DT'),\n",
       " ('US', 'NNP'),\n",
       " ('president', 'NN'),\n",
       " ('Barak', 'NNP'),\n",
       " ('Obama', 'NNP'),\n",
       " ('stays', 'VBZ'),\n",
       " ('in', 'IN'),\n",
       " ('White', 'NNP'),\n",
       " ('House', 'NNP')]"
      ]
     },
     "execution_count": 136,
     "metadata": {},
     "output_type": "execute_result"
    }
   ],
   "source": [
    "NE_tags"
   ]
  },
  {
   "cell_type": "code",
   "execution_count": 111,
   "id": "4fbc6f44",
   "metadata": {},
   "outputs": [
    {
     "name": "stderr",
     "output_type": "stream",
     "text": [
      "[nltk_data] Downloading package maxent_ne_chunker to\n",
      "[nltk_data]     C:\\Users\\Admin\\AppData\\Roaming\\nltk_data...\n",
      "[nltk_data]   Unzipping chunkers\\maxent_ne_chunker.zip.\n"
     ]
    },
    {
     "data": {
      "text/plain": [
       "True"
      ]
     },
     "execution_count": 111,
     "metadata": {},
     "output_type": "execute_result"
    }
   ],
   "source": [
    "nltk.download('maxent_ne_chunker')"
   ]
  },
  {
   "cell_type": "code",
   "execution_count": 113,
   "id": "f047f398",
   "metadata": {},
   "outputs": [
    {
     "name": "stderr",
     "output_type": "stream",
     "text": [
      "[nltk_data] Downloading package words to\n",
      "[nltk_data]     C:\\Users\\Admin\\AppData\\Roaming\\nltk_data...\n",
      "[nltk_data]   Unzipping corpora\\words.zip.\n"
     ]
    },
    {
     "data": {
      "text/plain": [
       "True"
      ]
     },
     "execution_count": 113,
     "metadata": {},
     "output_type": "execute_result"
    }
   ],
   "source": [
    "nltk.download('words')"
   ]
  },
  {
   "cell_type": "code",
   "execution_count": 137,
   "id": "bd241601",
   "metadata": {},
   "outputs": [
    {
     "name": "stdout",
     "output_type": "stream",
     "text": [
      "(S\n",
      "  The/DT\n",
      "  (GSP US/NNP)\n",
      "  president/NN\n",
      "  (PERSON Barak/NNP Obama/NNP)\n",
      "  stays/VBZ\n",
      "  in/IN\n",
      "  (FACILITY White/NNP House/NNP))\n"
     ]
    }
   ],
   "source": [
    "NE_NER = ne_chunk(NE_tags)\n",
    "print(NE_NER)"
   ]
  },
  {
   "cell_type": "code",
   "execution_count": 119,
   "id": "4c298baa",
   "metadata": {},
   "outputs": [
    {
     "data": {
      "text/plain": [
       "[('the', 'DT'),\n",
       " ('big', 'JJ'),\n",
       " ('cat', 'NN'),\n",
       " ('ate', 'VBD'),\n",
       " ('the', 'DT'),\n",
       " ('little', 'JJ'),\n",
       " ('mouse', 'NN'),\n",
       " ('who', 'WP'),\n",
       " ('was', 'VBD'),\n",
       " ('after', 'IN'),\n",
       " ('the', 'DT'),\n",
       " ('fresh', 'JJ'),\n",
       " ('cheese', 'NN'),\n",
       " ('.', '.')]"
      ]
     },
     "execution_count": 119,
     "metadata": {},
     "output_type": "execute_result"
    }
   ],
   "source": [
    "sentense2 = \"the big cat ate the little mouse who was after the fresh cheese.\"\n",
    "sentense2_toknes = nltk.pos_tag(word_tokenize(sentense2))\n",
    "sentense2_toknes"
   ]
  }
 ],
 "metadata": {
  "kernelspec": {
   "display_name": "Python 3 (ipykernel)",
   "language": "python",
   "name": "python3"
  },
  "language_info": {
   "codemirror_mode": {
    "name": "ipython",
    "version": 3
   },
   "file_extension": ".py",
   "mimetype": "text/x-python",
   "name": "python",
   "nbconvert_exporter": "python",
   "pygments_lexer": "ipython3",
   "version": "3.11.5"
  }
 },
 "nbformat": 4,
 "nbformat_minor": 5
}
