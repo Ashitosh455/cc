{
 "cells": [
  {
   "cell_type": "code",
   "execution_count": 2,
   "metadata": {},
   "outputs": [
    {
     "ename": "ModuleNotFoundError",
     "evalue": "No module named 'textblob'",
     "output_type": "error",
     "traceback": [
      "\u001b[1;31m---------------------------------------------------------------------------\u001b[0m",
      "\u001b[1;31mModuleNotFoundError\u001b[0m                       Traceback (most recent call last)",
      "Cell \u001b[1;32mIn[2], line 1\u001b[0m\n\u001b[1;32m----> 1\u001b[0m \u001b[38;5;28;01mfrom\u001b[39;00m \u001b[38;5;21;01mtextblob\u001b[39;00m \u001b[38;5;28;01mimport\u001b[39;00m TextBlob\n\u001b[0;32m      2\u001b[0m misspelled_word\u001b[38;5;241m=\u001b[39m \u001b[38;5;124m\"\u001b[39m\u001b[38;5;124mIncorrct\u001b[39m\u001b[38;5;124m\"\u001b[39m\n\u001b[0;32m      3\u001b[0m corrected_word\u001b[38;5;241m=\u001b[39m TextBlob(misspelled_word)\u001b[38;5;241m.\u001b[39mcorrect()\n",
      "\u001b[1;31mModuleNotFoundError\u001b[0m: No module named 'textblob'"
     ]
    }
   ],
   "source": [
    "# pip install textblob\n",
    "from textblob import TextBlob\n",
    "misspelled_word= \"Incorrct\"\n",
    "corrected_word= TextBlob(misspelled_word).correct()\n",
    "print(\"Misspelled Word:\",misspelled_word)\n",
    "print(\"Corrected Word: \",corrected_word)\n",
    "\n",
    "# you can also use list of misspelled words\n",
    "print(\"========================================================\")\n",
    "misspelled_word_list=['Incorrct','Mang','Summay','Watr','Appl']\n",
    "for word in misspelled_word_list:\n",
    "    correct_word=TextBlob(word).correct()\n",
    "    print(\"Misspelled Word:\",misspelled_word_list)\n",
    "    print(\"Corrected Word: \",correct_word) "
   ]
  }
 ],
 "metadata": {
  "kernelspec": {
   "display_name": "Python 3",
   "language": "python",
   "name": "python3"
  },
  "language_info": {
   "codemirror_mode": {
    "name": "ipython",
    "version": 3
   },
   "file_extension": ".py",
   "mimetype": "text/x-python",
   "name": "python",
   "nbconvert_exporter": "python",
   "pygments_lexer": "ipython3",
   "version": "3.12.2"
  }
 },
 "nbformat": 4,
 "nbformat_minor": 2
}
